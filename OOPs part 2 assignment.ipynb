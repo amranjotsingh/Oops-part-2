{
 "cells": [
  {
   "cell_type": "code",
   "execution_count": 1,
   "id": "bf237f75-9115-45a1-9a26-42a2258b98c0",
   "metadata": {},
   "outputs": [],
   "source": [
    "# What is Abstraction in OOps? Explain with an example."
   ]
  },
  {
   "cell_type": "code",
   "execution_count": 2,
   "id": "96e40ee9-58bb-4b93-a3f9-cf42099e564e",
   "metadata": {},
   "outputs": [],
   "source": [
    "# In Python, an abstraction is used to hide the irrelevant data/class in order to reduce the complexity. \n",
    "# It also enhances the application efficiency.\n",
    "# for example give below-"
   ]
  },
  {
   "cell_type": "code",
   "execution_count": 4,
   "id": "d3d988e3-ddb9-4cff-b08a-44acc713c2f6",
   "metadata": {},
   "outputs": [],
   "source": [
    "import abc\n",
    "\n",
    "class car:\n",
    "    \n",
    "    @abc.abstractmethod\n",
    "    def car_mileage(self):\n",
    "        pass\n",
    "    "
   ]
  },
  {
   "cell_type": "code",
   "execution_count": 6,
   "id": "e77e2559-398f-4c2b-9017-221201f18059",
   "metadata": {},
   "outputs": [],
   "source": [
    "class tesla(car):\n",
    "    def car_mileage(self):\n",
    "        print(\"The car mileage is 30kmph\")"
   ]
  },
  {
   "cell_type": "code",
   "execution_count": 7,
   "id": "22425be4-92d3-420f-81c4-3e423fa10ef1",
   "metadata": {},
   "outputs": [],
   "source": [
    "class suzuki(car):\n",
    "    def car_mileage(self):\n",
    "        print(\"The car mileage is 35kmph\")"
   ]
  },
  {
   "cell_type": "code",
   "execution_count": 8,
   "id": "40fe9870-7410-4c52-afa8-feee017493da",
   "metadata": {},
   "outputs": [],
   "source": [
    "t = tesla()"
   ]
  },
  {
   "cell_type": "code",
   "execution_count": 9,
   "id": "faf26d7b-8f8a-40b5-994e-86370935db4c",
   "metadata": {},
   "outputs": [],
   "source": [
    "s = suzuki()"
   ]
  },
  {
   "cell_type": "code",
   "execution_count": 10,
   "id": "958a4f5c-de86-44db-970c-77387cfeac5f",
   "metadata": {},
   "outputs": [
    {
     "name": "stdout",
     "output_type": "stream",
     "text": [
      "The car mileage is 35kmph\n"
     ]
    }
   ],
   "source": [
    "s.car_mileage()"
   ]
  },
  {
   "cell_type": "code",
   "execution_count": 11,
   "id": "304fd5b1-bbd4-460c-b7aa-8debf9d83df6",
   "metadata": {},
   "outputs": [],
   "source": [
    "# Q-2 Differentiate between Abstraction and Encapsulation. Explain with an example."
   ]
  },
  {
   "cell_type": "code",
   "execution_count": 12,
   "id": "c176a044-aca4-42f5-8de7-91300a99cedd",
   "metadata": {},
   "outputs": [],
   "source": [
    "#  In Python, an abstraction is used to hide the irrelevant data/class in order to reduce the complexity. \n",
    "# It also enhances the application efficiency.\n",
    "# for example of astraction give below-"
   ]
  },
  {
   "cell_type": "code",
   "execution_count": 20,
   "id": "817a7f4a-0d55-4973-a8d0-09e6138dc7f3",
   "metadata": {},
   "outputs": [],
   "source": [
    "import abc\n",
    "\n",
    "class car:\n",
    "    \n",
    "    @abc.abstractmethod\n",
    "    def car_mileage(self):\n",
    "        pass\n",
    "    "
   ]
  },
  {
   "cell_type": "code",
   "execution_count": 19,
   "id": "440171b9-6aa7-4ffd-8c85-69f2c68e2e86",
   "metadata": {},
   "outputs": [],
   "source": [
    "class tesla(car):\n",
    "    def car_mileage(self):\n",
    "        print(\"The car mileage is 40kmph\")"
   ]
  },
  {
   "cell_type": "code",
   "execution_count": 16,
   "id": "16083ad8-e810-4b44-b1b3-db88a31ae398",
   "metadata": {},
   "outputs": [],
   "source": [
    "class suzuki(car):\n",
    "    def car_mileage(self):\n",
    "        print(\"The car mileage is 30kmph\")"
   ]
  },
  {
   "cell_type": "code",
   "execution_count": 21,
   "id": "0422f136-7601-4f33-9fcd-f036f12e0a5f",
   "metadata": {},
   "outputs": [],
   "source": [
    "d=tesla()"
   ]
  },
  {
   "cell_type": "code",
   "execution_count": 23,
   "id": "ca891773-c07c-4653-aa5b-60d184de97f7",
   "metadata": {},
   "outputs": [],
   "source": [
    "e=suzuki()"
   ]
  },
  {
   "cell_type": "code",
   "execution_count": 24,
   "id": "78238ee3-b7e9-46c6-9ff4-6642b6d275df",
   "metadata": {},
   "outputs": [
    {
     "name": "stdout",
     "output_type": "stream",
     "text": [
      "The car mileage is 40kmph\n"
     ]
    }
   ],
   "source": [
    "d.car_mileage()"
   ]
  },
  {
   "cell_type": "code",
   "execution_count": 25,
   "id": "530857a1-5643-4922-a9f6-29291232ea2c",
   "metadata": {},
   "outputs": [
    {
     "name": "stdout",
     "output_type": "stream",
     "text": [
      "The car mileage is 30kmph\n"
     ]
    }
   ],
   "source": [
    "e.car_mileage()"
   ]
  },
  {
   "cell_type": "code",
   "execution_count": 26,
   "id": "f1d078a5-5d7d-4eed-a759-5b5835a42dc4",
   "metadata": {},
   "outputs": [],
   "source": [
    "# Encapsulation means wrapping of variables , In simple term encapsulation is use in that situation\n",
    "#  When we wrapped the variable to permit user to change or acess the variable in class. example of \n",
    "#  encapsulation is given below"
   ]
  },
  {
   "cell_type": "code",
   "execution_count": 27,
   "id": "f00a06bb-c7da-4c65-b604-80549e30a236",
   "metadata": {},
   "outputs": [],
   "source": [
    "class student_details:\n",
    "    \n",
    "    def __init__(self, name, rollno, phone_no):\n",
    "        self.__name = name\n",
    "        self.__rollno = rollno\n",
    "        self.__phone_no = phone_no\n",
    "        "
   ]
  },
  {
   "cell_type": "code",
   "execution_count": 29,
   "id": "270a237f-3c4d-4ebd-ad3a-67af93e6373e",
   "metadata": {},
   "outputs": [],
   "source": [
    "ranjot = student_details(\"Ranjot\",78,56951154646)"
   ]
  },
  {
   "cell_type": "code",
   "execution_count": 30,
   "id": "c837019d-f059-4891-b810-1a0259acdf58",
   "metadata": {},
   "outputs": [],
   "source": [
    "# so here if i want to acess the variable of name or any which is given in class , I can't able\n",
    "#  to acess that variable."
   ]
  },
  {
   "cell_type": "code",
   "execution_count": 31,
   "id": "991d655c-c564-4f32-8a0b-e5a16b7845cb",
   "metadata": {},
   "outputs": [],
   "source": [
    "# What is abc module in python? Why is it used?"
   ]
  },
  {
   "cell_type": "code",
   "execution_count": 32,
   "id": "fa7547ef-5224-4dfe-ae66-997f0cf2e584",
   "metadata": {},
   "outputs": [],
   "source": [
    "# The 'abc' module in the Python library provides the infrastructure for defining custom abstract base classes. \n",
    "# Abstract class cannot be instantiated in python. An Abstract method can be call by its subclasses."
   ]
  },
  {
   "cell_type": "code",
   "execution_count": 33,
   "id": "3cda544e-3bca-47ef-a519-408b4ac1e9a1",
   "metadata": {},
   "outputs": [],
   "source": [
    "# How can we achieve data abstraction?"
   ]
  },
  {
   "cell_type": "code",
   "execution_count": 34,
   "id": "d1d4679b-2c53-4e3f-91df-f45613d56ef3",
   "metadata": {},
   "outputs": [],
   "source": [
    "# In Python, abstraction can be achieved by having/using abstract classes and methods in our programs."
   ]
  },
  {
   "cell_type": "code",
   "execution_count": 35,
   "id": "9a6b96d9-4695-4747-9938-e7f83b2faec3",
   "metadata": {},
   "outputs": [],
   "source": [
    "# Q- Can we create an instance of an abstract class? Explain your answer."
   ]
  },
  {
   "cell_type": "code",
   "execution_count": null,
   "id": "b38d740f-aae3-48ae-bf14-8ecd8db8120a",
   "metadata": {},
   "outputs": [],
   "source": [
    "# Abstract classes cannot be instantiated, but they can be subclassed. \n",
    "# When an abstract class is subclassed, the subclass usually provides implementations \n",
    "# for all of the abstract methods in its parent class. \n",
    "# However, if it does not, then the subclass must also be declared abstract ."
   ]
  }
 ],
 "metadata": {
  "kernelspec": {
   "display_name": "Python 3 (ipykernel)",
   "language": "python",
   "name": "python3"
  },
  "language_info": {
   "codemirror_mode": {
    "name": "ipython",
    "version": 3
   },
   "file_extension": ".py",
   "mimetype": "text/x-python",
   "name": "python",
   "nbconvert_exporter": "python",
   "pygments_lexer": "ipython3",
   "version": "3.10.8"
  }
 },
 "nbformat": 4,
 "nbformat_minor": 5
}
